{
 "cells": [
  {
   "cell_type": "code",
   "execution_count": 1,
   "metadata": {},
   "outputs": [
    {
     "name": "stdout",
     "output_type": "stream",
     "text": [
      "\n",
      "     active environment : base\n",
      "    active env location : C:\\Users\\ASUS\\anaconda3\n",
      "            shell level : 1\n",
      "       user config file : C:\\Users\\ASUS\\.condarc\n",
      " populated config files : C:\\Users\\ASUS\\.condarc\n",
      "          conda version : 22.11.1\n",
      "    conda-build version : 3.22.0\n",
      "         python version : 3.9.13.final.0\n",
      "       virtual packages : __archspec=1=x86_64\n",
      "                          __win=0=0\n",
      "       base environment : C:\\Users\\ASUS\\anaconda3  (writable)\n",
      "      conda av data dir : C:\\Users\\ASUS\\anaconda3\\etc\\conda\n",
      "  conda av metadata url : None\n",
      "           channel URLs : https://repo.anaconda.com/pkgs/main/win-64\n",
      "                          https://repo.anaconda.com/pkgs/main/noarch\n",
      "                          https://repo.anaconda.com/pkgs/r/win-64\n",
      "                          https://repo.anaconda.com/pkgs/r/noarch\n",
      "                          https://repo.anaconda.com/pkgs/msys2/win-64\n",
      "                          https://repo.anaconda.com/pkgs/msys2/noarch\n",
      "          package cache : C:\\Users\\ASUS\\anaconda3\\pkgs\n",
      "                          C:\\Users\\ASUS\\.conda\\pkgs\n",
      "                          C:\\Users\\ASUS\\AppData\\Local\\conda\\conda\\pkgs\n",
      "       envs directories : C:\\Users\\ASUS\\anaconda3\\envs\n",
      "                          C:\\Users\\ASUS\\.conda\\envs\n",
      "                          C:\\Users\\ASUS\\AppData\\Local\\conda\\conda\\envs\n",
      "               platform : win-64\n",
      "             user-agent : conda/22.11.1 requests/2.28.1 CPython/3.9.13 Windows/10 Windows/10.0.17134\n",
      "          administrator : False\n",
      "             netrc file : None\n",
      "           offline mode : False\n",
      "\n"
     ]
    }
   ],
   "source": [
    "!conda info"
   ]
  },
  {
   "cell_type": "code",
   "execution_count": 3,
   "metadata": {},
   "outputs": [
    {
     "name": "stdout",
     "output_type": "stream",
     "text": [
      "Python 3.9.13\n"
     ]
    }
   ],
   "source": [
    "!python --version"
   ]
  },
  {
   "cell_type": "code",
   "execution_count": 6,
   "metadata": {},
   "outputs": [
    {
     "name": "stdout",
     "output_type": "stream",
     "text": [
      "Collecting package metadata (current_repodata.json): ...working... done\n",
      "Note: you may need to restart the kernel to use updated packages.\n",
      "\n",
      "Solving environment: ...working... done\n",
      "\n",
      "# All requested packages already installed.\n",
      "\n"
     ]
    }
   ],
   "source": [
    "%conda install pandas"
   ]
  },
  {
   "cell_type": "code",
   "execution_count": 2,
   "metadata": {},
   "outputs": [],
   "source": [
    "import pandas as pd"
   ]
  },
  {
   "cell_type": "code",
   "execution_count": 14,
   "metadata": {},
   "outputs": [
    {
     "data": {
      "text/html": [
       "<div>\n",
       "<style scoped>\n",
       "    .dataframe tbody tr th:only-of-type {\n",
       "        vertical-align: middle;\n",
       "    }\n",
       "\n",
       "    .dataframe tbody tr th {\n",
       "        vertical-align: top;\n",
       "    }\n",
       "\n",
       "    .dataframe thead th {\n",
       "        text-align: right;\n",
       "    }\n",
       "</style>\n",
       "<table border=\"1\" class=\"dataframe\">\n",
       "  <thead>\n",
       "    <tr style=\"text-align: right;\">\n",
       "      <th></th>\n",
       "      <th>Month Starting</th>\n",
       "      <th>Open</th>\n",
       "      <th>High</th>\n",
       "      <th>Low</th>\n",
       "      <th>Close</th>\n",
       "      <th>Change %</th>\n",
       "      <th>Avg. Volume</th>\n",
       "    </tr>\n",
       "  </thead>\n",
       "  <tbody>\n",
       "    <tr>\n",
       "      <th>0</th>\n",
       "      <td>Dec. 01, 2022</td>\n",
       "      <td>101.38</td>\n",
       "      <td>102.59</td>\n",
       "      <td>100.67</td>\n",
       "      <td>101.28</td>\n",
       "      <td>-0.17%</td>\n",
       "      <td>21.771.536</td>\n",
       "    </tr>\n",
       "    <tr>\n",
       "      <th>1</th>\n",
       "      <td>Nov. 01, 2022</td>\n",
       "      <td>95.59</td>\n",
       "      <td>101.45</td>\n",
       "      <td>83.45</td>\n",
       "      <td>101.45</td>\n",
       "      <td>7.17%</td>\n",
       "      <td>28.294.944</td>\n",
       "    </tr>\n",
       "    <tr>\n",
       "      <th>2</th>\n",
       "      <td>Oct. 03, 2022</td>\n",
       "      <td>97.22</td>\n",
       "      <td>105.10</td>\n",
       "      <td>91.90</td>\n",
       "      <td>94.66</td>\n",
       "      <td>-1.55%</td>\n",
       "      <td>27.843.110</td>\n",
       "    </tr>\n",
       "    <tr>\n",
       "      <th>3</th>\n",
       "      <td>Sep. 01, 2022</td>\n",
       "      <td>109.20</td>\n",
       "      <td>112.64</td>\n",
       "      <td>96.03</td>\n",
       "      <td>96.15</td>\n",
       "      <td>-11.91%</td>\n",
       "      <td>25.381.194</td>\n",
       "    </tr>\n",
       "    <tr>\n",
       "      <th>4</th>\n",
       "      <td>Aug. 01, 2022</td>\n",
       "      <td>115.53</td>\n",
       "      <td>123.26</td>\n",
       "      <td>108.80</td>\n",
       "      <td>109.15</td>\n",
       "      <td>-6.42%</td>\n",
       "      <td>18.737.451</td>\n",
       "    </tr>\n",
       "    <tr>\n",
       "      <th>...</th>\n",
       "      <td>...</td>\n",
       "      <td>...</td>\n",
       "      <td>...</td>\n",
       "      <td>...</td>\n",
       "      <td>...</td>\n",
       "      <td>...</td>\n",
       "      <td>...</td>\n",
       "    </tr>\n",
       "    <tr>\n",
       "      <th>103</th>\n",
       "      <td>May. 01, 2014</td>\n",
       "      <td>26.35</td>\n",
       "      <td>28.39</td>\n",
       "      <td>25.16</td>\n",
       "      <td>27.99</td>\n",
       "      <td>6.31%</td>\n",
       "      <td>34.808.252</td>\n",
       "    </tr>\n",
       "    <tr>\n",
       "      <th>104</th>\n",
       "      <td>Apr. 01, 2014</td>\n",
       "      <td>27.93</td>\n",
       "      <td>30.24</td>\n",
       "      <td>25.14</td>\n",
       "      <td>26.33</td>\n",
       "      <td>-5.44%</td>\n",
       "      <td>64.037.909</td>\n",
       "    </tr>\n",
       "    <tr>\n",
       "      <th>105</th>\n",
       "      <td>Mar. 27, 2014</td>\n",
       "      <td>28.40</td>\n",
       "      <td>28.40</td>\n",
       "      <td>27.65</td>\n",
       "      <td>27.85</td>\n",
       "      <td>0.00%</td>\n",
       "      <td>432.192</td>\n",
       "    </tr>\n",
       "    <tr>\n",
       "      <th>106</th>\n",
       "      <td>NaN</td>\n",
       "      <td>NaN</td>\n",
       "      <td>NaN</td>\n",
       "      <td>NaN</td>\n",
       "      <td>NaN</td>\n",
       "      <td>NaN</td>\n",
       "      <td>NaN</td>\n",
       "    </tr>\n",
       "    <tr>\n",
       "      <th>107</th>\n",
       "      <td>NaN</td>\n",
       "      <td>NaN</td>\n",
       "      <td>NaN</td>\n",
       "      <td>NaN</td>\n",
       "      <td>NaN</td>\n",
       "      <td>NaN</td>\n",
       "      <td>NaN</td>\n",
       "    </tr>\n",
       "  </tbody>\n",
       "</table>\n",
       "<p>108 rows × 7 columns</p>\n",
       "</div>"
      ],
      "text/plain": [
       "    Month Starting    Open    High     Low   Close Change % Avg. Volume\n",
       "0    Dec. 01, 2022  101.38  102.59  100.67  101.28   -0.17%  21.771.536\n",
       "1    Nov. 01, 2022   95.59  101.45   83.45  101.45    7.17%  28.294.944\n",
       "2    Oct. 03, 2022   97.22  105.10   91.90   94.66   -1.55%  27.843.110\n",
       "3    Sep. 01, 2022  109.20  112.64   96.03   96.15  -11.91%  25.381.194\n",
       "4    Aug. 01, 2022  115.53  123.26  108.80  109.15   -6.42%  18.737.451\n",
       "..             ...     ...     ...     ...     ...      ...         ...\n",
       "103  May. 01, 2014   26.35   28.39   25.16   27.99    6.31%  34.808.252\n",
       "104  Apr. 01, 2014   27.93   30.24   25.14   26.33   -5.44%  64.037.909\n",
       "105  Mar. 27, 2014   28.40   28.40   27.65   27.85    0.00%     432.192\n",
       "106            NaN     NaN     NaN     NaN     NaN      NaN         NaN\n",
       "107            NaN     NaN     NaN     NaN     NaN      NaN         NaN\n",
       "\n",
       "[108 rows x 7 columns]"
      ]
     },
     "execution_count": 14,
     "metadata": {},
     "output_type": "execute_result"
    }
   ],
   "source": [
    "df = pd.read_csv(\"google-stock-dataset.csv\")\n",
    "df"
   ]
  },
  {
   "cell_type": "code",
   "execution_count": 15,
   "metadata": {},
   "outputs": [
    {
     "name": "stdout",
     "output_type": "stream",
     "text": [
      "<class 'pandas.core.frame.DataFrame'>\n",
      "RangeIndex: 108 entries, 0 to 107\n",
      "Data columns (total 7 columns):\n",
      " #   Column          Non-Null Count  Dtype  \n",
      "---  ------          --------------  -----  \n",
      " 0   Month Starting  106 non-null    object \n",
      " 1   Open            106 non-null    float64\n",
      " 2   High            106 non-null    float64\n",
      " 3   Low             106 non-null    float64\n",
      " 4   Close           106 non-null    float64\n",
      " 5   Change %        106 non-null    object \n",
      " 6   Avg. Volume     106 non-null    object \n",
      "dtypes: float64(4), object(3)\n",
      "memory usage: 6.0+ KB\n"
     ]
    }
   ],
   "source": [
    "df.info()"
   ]
  },
  {
   "cell_type": "code",
   "execution_count": 16,
   "metadata": {},
   "outputs": [
    {
     "data": {
      "text/plain": [
       "(108, 7)"
      ]
     },
     "execution_count": 16,
     "metadata": {},
     "output_type": "execute_result"
    }
   ],
   "source": [
    "df.shape"
   ]
  },
  {
   "cell_type": "code",
   "execution_count": 17,
   "metadata": {},
   "outputs": [
    {
     "data": {
      "text/plain": [
       "Month Starting    2\n",
       "Open              2\n",
       "High              2\n",
       "Low               2\n",
       "Close             2\n",
       "Change %          2\n",
       "Avg. Volume       2\n",
       "dtype: int64"
      ]
     },
     "execution_count": 17,
     "metadata": {},
     "output_type": "execute_result"
    }
   ],
   "source": [
    "df.isnull().sum()"
   ]
  },
  {
   "cell_type": "code",
   "execution_count": 18,
   "metadata": {},
   "outputs": [],
   "source": [
    "df.fillna(0);"
   ]
  }
 ],
 "metadata": {
  "kernelspec": {
   "display_name": "Python 3.9.13 ('base')",
   "language": "python",
   "name": "python3"
  },
  "language_info": {
   "codemirror_mode": {
    "name": "ipython",
    "version": 3
   },
   "file_extension": ".py",
   "mimetype": "text/x-python",
   "name": "python",
   "nbconvert_exporter": "python",
   "pygments_lexer": "ipython3",
   "version": "3.9.13"
  },
  "orig_nbformat": 4,
  "vscode": {
   "interpreter": {
    "hash": "a90aeebcf29d64a654773811cc170cb25061cb2498f10ac689db374c7bf325de"
   }
  }
 },
 "nbformat": 4,
 "nbformat_minor": 2
}
